{
 "cells": [
  {
   "cell_type": "code",
   "execution_count": 7,
   "id": "dd91292d",
   "metadata": {},
   "outputs": [],
   "source": [
    "__file__ = 'C:\\\\Users\\\\grego\\\\Documents\\\\Programming\\\\Python Programming\\\\FinTech Bootcamp\\\\Project 3\\\\Bank-stock-Machine-learning-algo-and-stock-price-trend-predictor\\\\modules\\\\Untitled.ipynb'\n"
   ]
  },
  {
   "cell_type": "code",
   "execution_count": 8,
   "id": "8d316010",
   "metadata": {},
   "outputs": [],
   "source": [
    "import pickle\n",
    "import os\n",
    "\n",
    "# Base directory for the models\n",
    "base_dir = os.path.join(os.path.dirname(os.path.abspath(__file__)), '..', 'resources', 'Models')\n",
    "\n",
    "# Filenames for each dictionary\n",
    "filenames = [\n",
    "    'lgbm_regressor.pkl',\n",
    "    'svr.pkl',\n",
    "    'nu_svr.pkl',\n",
    "    'linear_svr.pkl',\n",
    "    'sgd_regressor.pkl',\n",
    "    'gaussian_process_regressor.pkl',\n",
    "    'decision_tree_regressor.pkl',\n",
    "    'random_forest_regressor.pkl',\n",
    "    'gradient_boosting_regressor.pkl',\n",
    "    'mlp_regressor.pkl',\n",
    "    'kernel_ridge.pkl',\n",
    "    'elastic_net.pkl',\n",
    "    'bayesian_ridge.pkl'\n",
    "]\n",
    "\n",
    "# Variable names for each dictionary\n",
    "variables = [\n",
    "    'lgbm_regressor_dict',\n",
    "    'svr_dict',\n",
    "    'nu_svr_dict',\n",
    "    'linear_svr_dict',\n",
    "    'sgd_regressor_dict',\n",
    "    'gaussian_process_regressor_dict',\n",
    "    'decision_tree_regressor_dict',\n",
    "    'random_forest_regressor_dict',\n",
    "    'gradient_boosting_regressor_dict',\n",
    "    'mlp_regressor_dict',\n",
    "    'kernel_ridge_dict',\n",
    "    'elastic_net_dict',\n",
    "    'bayesian_ridge_dict'\n",
    "]\n",
    "\n",
    "# Load each dictionary from its file\n",
    "for filename, var_name in zip(filenames, variables):\n",
    "    with open(os.path.join(base_dir, filename), 'rb') as file:\n",
    "        globals()[var_name] = pickle.load(file)\n",
    "\n",
    "# Now, each dictionary is loaded back into its respective variable\n"
   ]
  },
  {
   "cell_type": "code",
   "execution_count": null,
   "id": "414cbc6b",
   "metadata": {},
   "outputs": [],
   "source": []
  }
 ],
 "metadata": {
  "kernelspec": {
   "display_name": "Python 3 (ipykernel)",
   "language": "python",
   "name": "python3"
  },
  "language_info": {
   "codemirror_mode": {
    "name": "ipython",
    "version": 3
   },
   "file_extension": ".py",
   "mimetype": "text/x-python",
   "name": "python",
   "nbconvert_exporter": "python",
   "pygments_lexer": "ipython3",
   "version": "3.9.16"
  }
 },
 "nbformat": 4,
 "nbformat_minor": 5
}
